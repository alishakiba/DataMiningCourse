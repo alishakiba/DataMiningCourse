{
 "cells": [
  {
   "cell_type": "code",
   "execution_count": 1,
   "id": "a3f68999",
   "metadata": {},
   "outputs": [],
   "source": [
    "import numpy as np"
   ]
  },
  {
   "cell_type": "code",
   "execution_count": 5,
   "id": "f073fc06",
   "metadata": {},
   "outputs": [
    {
     "data": {
      "text/plain": [
       "(10000, 50)"
      ]
     },
     "execution_count": 5,
     "metadata": {},
     "output_type": "execute_result"
    }
   ],
   "source": [
    "m, n = 10000, 50\n",
    "X = np.random.randint(-15, 15, size=(m, n))\n",
    "X.shape"
   ]
  },
  {
   "cell_type": "code",
   "execution_count": 6,
   "id": "f58ddac1",
   "metadata": {},
   "outputs": [],
   "source": [
    "X_centered = X - X.mean(axis=0)\n",
    "U, sigma, Vt = np.linalg.svd(X_centered)"
   ]
  },
  {
   "cell_type": "code",
   "execution_count": 7,
   "id": "2485464a",
   "metadata": {},
   "outputs": [
    {
     "data": {
      "text/plain": [
       "(10000, 10000)"
      ]
     },
     "execution_count": 7,
     "metadata": {},
     "output_type": "execute_result"
    }
   ],
   "source": [
    "U.shape"
   ]
  },
  {
   "cell_type": "code",
   "execution_count": 8,
   "id": "606d00db",
   "metadata": {},
   "outputs": [
    {
     "data": {
      "text/plain": [
       "(50,)"
      ]
     },
     "execution_count": 8,
     "metadata": {},
     "output_type": "execute_result"
    }
   ],
   "source": [
    "sigma.shape"
   ]
  },
  {
   "cell_type": "code",
   "execution_count": 9,
   "id": "dba807ae",
   "metadata": {},
   "outputs": [
    {
     "data": {
      "text/plain": [
       "(50, 50)"
      ]
     },
     "execution_count": 9,
     "metadata": {},
     "output_type": "execute_result"
    }
   ],
   "source": [
    "Vt.shape"
   ]
  },
  {
   "cell_type": "code",
   "execution_count": 10,
   "id": "9a981840",
   "metadata": {},
   "outputs": [],
   "source": [
    "c1 = Vt.T[:, 0]\n",
    "c2 = Vt.T[:, 1]"
   ]
  },
  {
   "cell_type": "code",
   "execution_count": 11,
   "id": "8c773b30",
   "metadata": {},
   "outputs": [
    {
     "data": {
      "text/plain": [
       "(50,)"
      ]
     },
     "execution_count": 11,
     "metadata": {},
     "output_type": "execute_result"
    }
   ],
   "source": [
    "c1.shape"
   ]
  },
  {
   "cell_type": "code",
   "execution_count": 23,
   "id": "cf01af5e",
   "metadata": {},
   "outputs": [],
   "source": [
    "d = 30\n",
    "Wd = Vt.T[:, :d]"
   ]
  },
  {
   "cell_type": "markdown",
   "id": "ca906ab8",
   "metadata": {},
   "source": [
    "$X_{projected} = X W_d$"
   ]
  },
  {
   "cell_type": "code",
   "execution_count": 24,
   "id": "a0deaec4",
   "metadata": {},
   "outputs": [],
   "source": [
    "XdD = X_centered.dot(Wd)"
   ]
  },
  {
   "cell_type": "code",
   "execution_count": 25,
   "id": "4562ede7",
   "metadata": {},
   "outputs": [
    {
     "data": {
      "text/plain": [
       "(10000, 30)"
      ]
     },
     "execution_count": 25,
     "metadata": {},
     "output_type": "execute_result"
    }
   ],
   "source": [
    "XdD.shape"
   ]
  },
  {
   "cell_type": "code",
   "execution_count": 26,
   "id": "24e6b82c",
   "metadata": {},
   "outputs": [],
   "source": [
    "from sklearn.decomposition import PCA"
   ]
  },
  {
   "cell_type": "code",
   "execution_count": 27,
   "id": "1461212a",
   "metadata": {},
   "outputs": [],
   "source": [
    "pca = PCA(n_components=d)\n",
    "XdD_sklearn = pca.fit_transform(X)"
   ]
  },
  {
   "cell_type": "code",
   "execution_count": 28,
   "id": "8dbd739f",
   "metadata": {},
   "outputs": [
    {
     "data": {
      "text/plain": [
       "(10000, 30)"
      ]
     },
     "execution_count": 28,
     "metadata": {},
     "output_type": "execute_result"
    }
   ],
   "source": [
    "XdD_sklearn.shape"
   ]
  },
  {
   "cell_type": "code",
   "execution_count": 29,
   "id": "d5a7cd45",
   "metadata": {
    "scrolled": true
   },
   "outputs": [
    {
     "data": {
      "text/plain": [
       "array([[-0.13441961, -0.09293291, -0.02578989, ..., -0.01144629,\n",
       "        -0.13053175, -0.07690593],\n",
       "       [ 0.03283136,  0.20917126, -0.07232436, ..., -0.08019307,\n",
       "        -0.19827658,  0.18694009],\n",
       "       [ 0.08020226, -0.02451619,  0.04662539, ..., -0.01397841,\n",
       "        -0.13160686,  0.17148189],\n",
       "       ...,\n",
       "       [ 0.12223548,  0.04186511,  0.22872468, ..., -0.15405907,\n",
       "         0.09207028,  0.0014348 ],\n",
       "       [ 0.10931932,  0.03130247, -0.06233703, ..., -0.0547071 ,\n",
       "        -0.1130952 ,  0.03154218],\n",
       "       [-0.27688566, -0.23109402,  0.01025828, ...,  0.1066564 ,\n",
       "        -0.21716957,  0.24871648]])"
      ]
     },
     "execution_count": 29,
     "metadata": {},
     "output_type": "execute_result"
    }
   ],
   "source": [
    "pca.components_.T"
   ]
  },
  {
   "cell_type": "code",
   "execution_count": 30,
   "id": "831c6713",
   "metadata": {
    "scrolled": true
   },
   "outputs": [
    {
     "data": {
      "text/plain": [
       "array([[-0.12205732,  0.11917602, -0.11554919, ..., -0.11818472,\n",
       "        -0.20148278,  0.08462526],\n",
       "       [ 0.02209074, -0.02474021,  0.11426553, ...,  0.09901409,\n",
       "        -0.17816397,  0.0069393 ],\n",
       "       [ 0.06909609, -0.05495674, -0.07131312, ..., -0.15142304,\n",
       "        -0.1074921 , -0.20471688],\n",
       "       ...,\n",
       "       [ 0.12430057, -0.19187306, -0.04804735, ..., -0.16019035,\n",
       "        -0.22352539,  0.10995163],\n",
       "       [ 0.12272708,  0.02828213,  0.075061  , ..., -0.00575135,\n",
       "        -0.03459688,  0.09232719],\n",
       "       [-0.24395694,  0.17049873, -0.00586695, ...,  0.0407898 ,\n",
       "         0.08713727,  0.01143697]])"
      ]
     },
     "execution_count": 30,
     "metadata": {},
     "output_type": "execute_result"
    }
   ],
   "source": [
    "Wd"
   ]
  },
  {
   "cell_type": "code",
   "execution_count": 31,
   "id": "0c6c91d7",
   "metadata": {},
   "outputs": [
    {
     "data": {
      "text/plain": [
       "array([0.02274995, 0.02243434, 0.02234964, 0.0223107 , 0.02192477,\n",
       "       0.02186725, 0.02159503, 0.02149152, 0.02136849, 0.02127337,\n",
       "       0.02119681, 0.02104337, 0.02092357, 0.02076691, 0.02074176,\n",
       "       0.02066103, 0.02049602, 0.02048126, 0.0203793 , 0.02024158,\n",
       "       0.02005319, 0.02000359, 0.01990619, 0.0197938 , 0.01971836,\n",
       "       0.01968459, 0.01950735, 0.01936091, 0.01926203, 0.01910696])"
      ]
     },
     "execution_count": 31,
     "metadata": {},
     "output_type": "execute_result"
    }
   ],
   "source": [
    "pca.explained_variance_ratio_"
   ]
  },
  {
   "cell_type": "code",
   "execution_count": 32,
   "id": "5ea82764",
   "metadata": {},
   "outputs": [
    {
     "data": {
      "text/plain": [
       "array([0.02274995, 0.04518429, 0.06753393, 0.08984464, 0.11176941,\n",
       "       0.13363666, 0.15523169, 0.17672321, 0.1980917 , 0.21936507,\n",
       "       0.24056187, 0.26160524, 0.28252881, 0.30329572, 0.32403748,\n",
       "       0.34469851, 0.36519454, 0.38567579, 0.40605509, 0.42629667,\n",
       "       0.44634987, 0.46635345, 0.48625964, 0.50605344, 0.5257718 ,\n",
       "       0.54545639, 0.56496373, 0.58432465, 0.60358667, 0.62269364])"
      ]
     },
     "execution_count": 32,
     "metadata": {},
     "output_type": "execute_result"
    }
   ],
   "source": [
    "np.cumsum(pca.explained_variance_ratio_)"
   ]
  },
  {
   "cell_type": "code",
   "execution_count": 33,
   "id": "d48d9c0f",
   "metadata": {},
   "outputs": [],
   "source": [
    "pca = PCA()"
   ]
  },
  {
   "cell_type": "code",
   "execution_count": 34,
   "id": "e5b2340d",
   "metadata": {},
   "outputs": [
    {
     "data": {
      "text/plain": [
       "PCA()"
      ]
     },
     "execution_count": 34,
     "metadata": {},
     "output_type": "execute_result"
    }
   ],
   "source": [
    "pca.fit(X)"
   ]
  },
  {
   "cell_type": "code",
   "execution_count": 35,
   "id": "a758b299",
   "metadata": {},
   "outputs": [],
   "source": [
    "cum_sum = np.cumsum(pca.explained_variance_ratio_)"
   ]
  },
  {
   "cell_type": "code",
   "execution_count": 36,
   "id": "a8ddd762",
   "metadata": {},
   "outputs": [
    {
     "data": {
      "text/plain": [
       "29"
      ]
     },
     "execution_count": 36,
     "metadata": {},
     "output_type": "execute_result"
    }
   ],
   "source": [
    "d = np.argmax(cum_sum >= 0.60) + 1\n",
    "d"
   ]
  },
  {
   "cell_type": "code",
   "execution_count": 37,
   "id": "8fc32566",
   "metadata": {},
   "outputs": [],
   "source": [
    "pca = PCA(n_components=0.60)\n",
    "X_reduced = pca.fit_transform(X)"
   ]
  },
  {
   "cell_type": "code",
   "execution_count": 38,
   "id": "a2b007ab",
   "metadata": {},
   "outputs": [
    {
     "data": {
      "text/plain": [
       "(10000, 29)"
      ]
     },
     "execution_count": 38,
     "metadata": {},
     "output_type": "execute_result"
    }
   ],
   "source": [
    "X_reduced.shape"
   ]
  },
  {
   "cell_type": "code",
   "execution_count": 43,
   "id": "4c257b96",
   "metadata": {},
   "outputs": [],
   "source": [
    "from sklearn.datasets import load_digits"
   ]
  },
  {
   "cell_type": "code",
   "execution_count": 44,
   "id": "c0957cad",
   "metadata": {},
   "outputs": [],
   "source": [
    "dataset = load_digits()"
   ]
  },
  {
   "cell_type": "code",
   "execution_count": 45,
   "id": "8ee61e2f",
   "metadata": {},
   "outputs": [],
   "source": [
    "X = dataset.data"
   ]
  },
  {
   "cell_type": "code",
   "execution_count": 47,
   "id": "e92c29f9",
   "metadata": {},
   "outputs": [
    {
     "data": {
      "text/plain": [
       "(1797, 64)"
      ]
     },
     "execution_count": 47,
     "metadata": {},
     "output_type": "execute_result"
    }
   ],
   "source": [
    "X.shape"
   ]
  },
  {
   "cell_type": "code",
   "execution_count": 48,
   "id": "fec4c9b5",
   "metadata": {},
   "outputs": [],
   "source": [
    "import matplotlib.pyplot as plt\n",
    "%matplotlib inline "
   ]
  },
  {
   "cell_type": "code",
   "execution_count": 49,
   "id": "4d64dd70",
   "metadata": {},
   "outputs": [
    {
     "data": {
      "text/plain": [
       "<matplotlib.image.AxesImage at 0x7f1ff7f01580>"
      ]
     },
     "execution_count": 49,
     "metadata": {},
     "output_type": "execute_result"
    },
    {
     "data": {
      "text/plain": [
       "<Figure size 432x288 with 0 Axes>"
      ]
     },
     "metadata": {},
     "output_type": "display_data"
    },
    {
     "data": {
      "image/png": "[encoded data removed]",
      "text/plain": [
       "<Figure size 288x288 with 1 Axes>"
      ]
     },
     "metadata": {
      "needs_background": "light"
     },
     "output_type": "display_data"
    }
   ],
   "source": [
    "plt.gray()\n",
    "plt.matshow(dataset.images[0])"
   ]
  },
  {
   "cell_type": "code",
   "execution_count": 50,
   "id": "1725822d",
   "metadata": {},
   "outputs": [],
   "source": [
    "pca = PCA(n_components=0.8)\n",
    "X_reduced = pca.fit_transform(X)"
   ]
  },
  {
   "cell_type": "code",
   "execution_count": 51,
   "id": "f1f345f3",
   "metadata": {},
   "outputs": [
    {
     "data": {
      "text/plain": [
       "13"
      ]
     },
     "execution_count": 51,
     "metadata": {},
     "output_type": "execute_result"
    }
   ],
   "source": [
    "pca.n_components_"
   ]
  },
  {
   "cell_type": "code",
   "execution_count": 52,
   "id": "47c044be",
   "metadata": {},
   "outputs": [
    {
     "data": {
      "text/plain": [
       "(1797, 13)"
      ]
     },
     "execution_count": 52,
     "metadata": {},
     "output_type": "execute_result"
    }
   ],
   "source": [
    "X_reduced.shape"
   ]
  },
  {
   "cell_type": "code",
   "execution_count": 53,
   "id": "7cbb77d8",
   "metadata": {},
   "outputs": [
    {
     "data": {
      "text/plain": [
       "0.203125"
      ]
     },
     "execution_count": 53,
     "metadata": {},
     "output_type": "execute_result"
    }
   ],
   "source": [
    "13.0 / 64"
   ]
  },
  {
   "cell_type": "markdown",
   "id": "fb073305",
   "metadata": {},
   "source": [
    "$X_{recovered} = X_{d} W_d^T$"
   ]
  },
  {
   "cell_type": "code",
   "execution_count": 54,
   "id": "6d88d58e",
   "metadata": {},
   "outputs": [],
   "source": [
    "X_recovered = pca.inverse_transform(X_reduced)"
   ]
  },
  {
   "cell_type": "code",
   "execution_count": 55,
   "id": "80999807",
   "metadata": {},
   "outputs": [
    {
     "data": {
      "text/plain": [
       "(1797, 64)"
      ]
     },
     "execution_count": 55,
     "metadata": {},
     "output_type": "execute_result"
    }
   ],
   "source": [
    "X_recovered.shape"
   ]
  },
  {
   "cell_type": "code",
   "execution_count": 56,
   "id": "1cb97ca1",
   "metadata": {},
   "outputs": [
    {
     "data": {
      "text/plain": [
       "11.519004991520534"
      ]
     },
     "execution_count": 56,
     "metadata": {},
     "output_type": "execute_result"
    }
   ],
   "source": [
    "np.linalg.norm(X_recovered[0, :] - X[0, :])"
   ]
  },
  {
   "cell_type": "code",
   "execution_count": 58,
   "id": "d493a7a0",
   "metadata": {},
   "outputs": [
    {
     "data": {
      "text/plain": [
       "<matplotlib.image.AxesImage at 0x7f1ff84f9d30>"
      ]
     },
     "execution_count": 58,
     "metadata": {},
     "output_type": "execute_result"
    },
    {
     "data": {
      "text/plain": [
       "<Figure size 432x288 with 0 Axes>"
      ]
     },
     "metadata": {},
     "output_type": "display_data"
    },
    {
     "data": {
      "image/png": "[encoded data removed]",
      "text/plain": [
       "<Figure size 288x288 with 1 Axes>"
      ]
     },
     "metadata": {
      "needs_background": "light"
     },
     "output_type": "display_data"
    }
   ],
   "source": [
    "plt.gray()\n",
    "plt.matshow(X_recovered[10, :].reshape((8,8)))"
   ]
  },
  {
   "cell_type": "code",
   "execution_count": 59,
   "id": "40dbbd7c",
   "metadata": {},
   "outputs": [
    {
     "data": {
      "text/plain": [
       "<matplotlib.image.AxesImage at 0x7f1ff9fb7e80>"
      ]
     },
     "execution_count": 59,
     "metadata": {},
     "output_type": "execute_result"
    },
    {
     "data": {
      "text/plain": [
       "<Figure size 432x288 with 0 Axes>"
      ]
     },
     "metadata": {},
     "output_type": "display_data"
    },
    {
     "data": {
      "image/png": "[encoded data removed]",
      "text/plain": [
       "<Figure size 288x288 with 1 Axes>"
      ]
     },
     "metadata": {
      "needs_background": "light"
     },
     "output_type": "display_data"
    }
   ],
   "source": [
    "plt.gray()\n",
    "plt.matshow(dataset.images[10])"
   ]
  },
  {
   "cell_type": "code",
   "execution_count": 60,
   "id": "43cc5990",
   "metadata": {},
   "outputs": [],
   "source": [
    "pca = PCA(n_components=13, svd_solver='randomized') # full"
   ]
  },
  {
   "cell_type": "code",
   "execution_count": null,
   "id": "faab2ab6",
   "metadata": {},
   "outputs": [],
   "source": []
  }
 ],
 "metadata": {
  "kernelspec": {
   "display_name": "Python 3",
   "language": "python",
   "name": "python3"
  },
  "language_info": {
   "codemirror_mode": {
    "name": "ipython",
    "version": 3
   },
   "file_extension": ".py",
   "mimetype": "text/x-python",
   "name": "python",
   "nbconvert_exporter": "python",
   "pygments_lexer": "ipython3",
   "version": "3.8.8"
  }
 },
 "nbformat": 4,
 "nbformat_minor": 5
}
