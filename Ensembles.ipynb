{
 "cells": [
  {
   "cell_type": "code",
   "execution_count": 1,
   "id": "9fc27667",
   "metadata": {},
   "outputs": [],
   "source": [
    "from sklearn.ensemble import RandomForestClassifier\n",
    "from sklearn.ensemble import VotingClassifier\n",
    "from sklearn.linear_model import LogisticRegression\n",
    "from sklearn.svm import SVC"
   ]
  },
  {
   "cell_type": "code",
   "execution_count": 2,
   "id": "dcdbf8e1",
   "metadata": {},
   "outputs": [],
   "source": [
    "log_clf = LogisticRegression()\n",
    "svm_clf = SVC()\n",
    "rnd_clf = RandomForestClassifier()"
   ]
  },
  {
   "cell_type": "code",
   "execution_count": 3,
   "id": "a93878b8",
   "metadata": {},
   "outputs": [],
   "source": [
    "voting_clf = VotingClassifier(\n",
    "    estimators=[\n",
    "        ('lr', log_clf), \n",
    "        ('rf', rnd_clf), \n",
    "        ('svc', svm_clf),\n",
    "    ],\n",
    "    voting='hard',\n",
    ")"
   ]
  },
  {
   "cell_type": "code",
   "execution_count": 4,
   "id": "d8482ea0",
   "metadata": {},
   "outputs": [],
   "source": [
    "from sklearn.datasets import load_iris"
   ]
  },
  {
   "cell_type": "raw",
   "id": "3a3321c9",
   "metadata": {},
   "source": [
    "iris = load_iris()\n",
    "X = iris.data[:, :1] # petal length & width\n",
    "y = iris.target"
   ]
  },
  {
   "cell_type": "code",
   "execution_count": 30,
   "id": "7f6103ec",
   "metadata": {},
   "outputs": [],
   "source": [
    "from sklearn.datasets import make_moons"
   ]
  },
  {
   "cell_type": "code",
   "execution_count": 61,
   "id": "6271a05e",
   "metadata": {},
   "outputs": [],
   "source": [
    "X, y = make_moons(500, noise=0.3, random_state=42)"
   ]
  },
  {
   "cell_type": "code",
   "execution_count": 62,
   "id": "6c52ddc8",
   "metadata": {},
   "outputs": [],
   "source": [
    "from sklearn.model_selection import train_test_split"
   ]
  },
  {
   "cell_type": "code",
   "execution_count": 67,
   "id": "645d42d6",
   "metadata": {},
   "outputs": [],
   "source": [
    "X_train, X_test, y_train, y_test = train_test_split(X, y, random_state=42)"
   ]
  },
  {
   "cell_type": "code",
   "execution_count": 68,
   "id": "2b1f9245",
   "metadata": {},
   "outputs": [
    {
     "data": {
      "text/plain": [
       "VotingClassifier(estimators=[('lr', LogisticRegression()),\n",
       "                             ('rf', RandomForestClassifier()), ('svc', SVC())])"
      ]
     },
     "execution_count": 68,
     "metadata": {},
     "output_type": "execute_result"
    }
   ],
   "source": [
    "voting_clf.fit(X_train, y_train)"
   ]
  },
  {
   "cell_type": "code",
   "execution_count": 69,
   "id": "b4342dfc",
   "metadata": {},
   "outputs": [],
   "source": [
    "from sklearn.metrics import accuracy_score"
   ]
  },
  {
   "cell_type": "code",
   "execution_count": 70,
   "id": "feabda62",
   "metadata": {},
   "outputs": [
    {
     "name": "stdout",
     "output_type": "stream",
     "text": [
      "LogisticRegression 0.864\n",
      "RandomForestClassifier 0.888\n",
      "SVC 0.896\n",
      "VotingClassifier 0.904\n"
     ]
    }
   ],
   "source": [
    "for clf in (log_clf, rnd_clf, svm_clf, voting_clf):\n",
    "    clf.fit(X_train, y_train)\n",
    "    y_pred = clf.predict(X_test)\n",
    "    print(clf.__class__.__name__, accuracy_score(y_test, y_pred))"
   ]
  },
  {
   "cell_type": "code",
   "execution_count": 73,
   "id": "2592359f",
   "metadata": {},
   "outputs": [],
   "source": [
    "svm_clf = SVC(probability=True)\n",
    "voting_clf = VotingClassifier(\n",
    "    estimators=[\n",
    "        ('lr', log_clf), \n",
    "        ('rf', rnd_clf), \n",
    "        ('svc', svm_clf),\n",
    "    ],\n",
    "    voting='soft',\n",
    ")"
   ]
  },
  {
   "cell_type": "code",
   "execution_count": 74,
   "id": "3582009a",
   "metadata": {},
   "outputs": [
    {
     "name": "stdout",
     "output_type": "stream",
     "text": [
      "LogisticRegression 0.864\n",
      "RandomForestClassifier 0.896\n",
      "SVC 0.896\n",
      "VotingClassifier 0.928\n"
     ]
    }
   ],
   "source": [
    "for clf in (log_clf, rnd_clf, svm_clf, voting_clf):\n",
    "    clf.fit(X_train, y_train)\n",
    "    y_pred = clf.predict(X_test)\n",
    "    print(clf.__class__.__name__, accuracy_score(y_test, y_pred))"
   ]
  },
  {
   "cell_type": "markdown",
   "id": "0c38376f",
   "metadata": {},
   "source": [
    "## Bagging and Pasting"
   ]
  },
  {
   "cell_type": "code",
   "execution_count": 75,
   "id": "1523a66d",
   "metadata": {},
   "outputs": [],
   "source": [
    "from sklearn.ensemble import BaggingClassifier"
   ]
  },
  {
   "cell_type": "code",
   "execution_count": 76,
   "id": "7c11e3fd",
   "metadata": {},
   "outputs": [],
   "source": [
    "from sklearn.tree import DecisionTreeClassifier"
   ]
  },
  {
   "cell_type": "code",
   "execution_count": 77,
   "id": "11d77d46",
   "metadata": {},
   "outputs": [],
   "source": [
    "bag_clf = BaggingClassifier(\n",
    "    DecisionTreeClassifier(), n_estimators=500,\n",
    "    max_samples=100, \n",
    "    bootstrap=True, # Bagging, if set to False, it means Pasting\n",
    "    n_jobs=-1\n",
    ")"
   ]
  },
  {
   "cell_type": "code",
   "execution_count": 78,
   "id": "c6933bb5",
   "metadata": {},
   "outputs": [
    {
     "data": {
      "text/plain": [
       "BaggingClassifier(base_estimator=DecisionTreeClassifier(), max_samples=100,\n",
       "                  n_estimators=500, n_jobs=-1)"
      ]
     },
     "execution_count": 78,
     "metadata": {},
     "output_type": "execute_result"
    }
   ],
   "source": [
    "bag_clf.fit(X_train, y_train)"
   ]
  },
  {
   "cell_type": "code",
   "execution_count": 79,
   "id": "f69b9d79",
   "metadata": {},
   "outputs": [],
   "source": [
    "y_pred = bag_clf.predict(X_test)"
   ]
  },
  {
   "cell_type": "code",
   "execution_count": 80,
   "id": "6e18a6a7",
   "metadata": {},
   "outputs": [
    {
     "data": {
      "text/plain": [
       "0.912"
      ]
     },
     "execution_count": 80,
     "metadata": {},
     "output_type": "execute_result"
    }
   ],
   "source": [
    "accuracy_score(y_test, y_pred)"
   ]
  },
  {
   "cell_type": "code",
   "execution_count": 81,
   "id": "b23ddda3",
   "metadata": {},
   "outputs": [],
   "source": [
    "pasting_clf = BaggingClassifier(\n",
    "    DecisionTreeClassifier(), n_estimators=500,\n",
    "    max_samples=100, \n",
    "    bootstrap=False, \n",
    "    n_jobs=-1\n",
    ")"
   ]
  },
  {
   "cell_type": "code",
   "execution_count": 82,
   "id": "f598469d",
   "metadata": {},
   "outputs": [
    {
     "data": {
      "text/plain": [
       "BaggingClassifier(base_estimator=DecisionTreeClassifier(), bootstrap=False,\n",
       "                  max_samples=100, n_estimators=500, n_jobs=-1)"
      ]
     },
     "execution_count": 82,
     "metadata": {},
     "output_type": "execute_result"
    }
   ],
   "source": [
    "pasting_clf.fit(X_train, y_train)"
   ]
  },
  {
   "cell_type": "code",
   "execution_count": 83,
   "id": "0cb981a3",
   "metadata": {},
   "outputs": [],
   "source": [
    "y_pred = pasting_clf.predict(X_test)"
   ]
  },
  {
   "cell_type": "code",
   "execution_count": 84,
   "id": "72bf2e97",
   "metadata": {},
   "outputs": [
    {
     "data": {
      "text/plain": [
       "0.928"
      ]
     },
     "execution_count": 84,
     "metadata": {},
     "output_type": "execute_result"
    }
   ],
   "source": [
    "accuracy_score(y_test, y_pred)"
   ]
  },
  {
   "cell_type": "code",
   "execution_count": 85,
   "id": "5eba45fb",
   "metadata": {},
   "outputs": [
    {
     "data": {
      "text/plain": [
       "BaggingClassifier(base_estimator=DecisionTreeClassifier(), n_estimators=500,\n",
       "                  n_jobs=-1, oob_score=True)"
      ]
     },
     "execution_count": 85,
     "metadata": {},
     "output_type": "execute_result"
    }
   ],
   "source": [
    "bag_clf = BaggingClassifier(\n",
    "    DecisionTreeClassifier(), n_estimators=500,\n",
    "    bootstrap=True, n_jobs=-1, \n",
    "    oob_score=True\n",
    ")\n",
    "bag_clf.fit(X_train, y_train)"
   ]
  },
  {
   "cell_type": "code",
   "execution_count": 86,
   "id": "aca7216a",
   "metadata": {},
   "outputs": [
    {
     "data": {
      "text/plain": [
       "0.8906666666666667"
      ]
     },
     "execution_count": 86,
     "metadata": {},
     "output_type": "execute_result"
    }
   ],
   "source": [
    "bag_clf.oob_score_"
   ]
  },
  {
   "cell_type": "code",
   "execution_count": 87,
   "id": "e2d0f701",
   "metadata": {},
   "outputs": [],
   "source": [
    "from sklearn.metrics import accuracy_score"
   ]
  },
  {
   "cell_type": "code",
   "execution_count": 88,
   "id": "fc6b0c50",
   "metadata": {},
   "outputs": [],
   "source": [
    "y_pred = bag_clf.predict(X_test)"
   ]
  },
  {
   "cell_type": "code",
   "execution_count": 89,
   "id": "806065b3",
   "metadata": {},
   "outputs": [
    {
     "data": {
      "text/plain": [
       "0.88"
      ]
     },
     "execution_count": 89,
     "metadata": {},
     "output_type": "execute_result"
    }
   ],
   "source": [
    "accuracy_score(y_test, y_pred)"
   ]
  },
  {
   "cell_type": "code",
   "execution_count": 90,
   "id": "65142fd7",
   "metadata": {},
   "outputs": [
    {
     "data": {
      "text/plain": [
       "array([[0.41116751, 0.58883249],\n",
       "       [0.32258065, 0.67741935],\n",
       "       [1.        , 0.        ],\n",
       "       [0.        , 1.        ],\n",
       "       [0.        , 1.        ],\n",
       "       [0.10382514, 0.89617486],\n",
       "       [0.35151515, 0.64848485],\n",
       "       [0.00571429, 0.99428571],\n",
       "       [0.98461538, 0.01538462],\n",
       "       [0.95187166, 0.04812834],\n",
       "       [0.80571429, 0.19428571],\n",
       "       [0.01030928, 0.98969072],\n",
       "       [0.68983957, 0.31016043],\n",
       "       [0.84795322, 0.15204678],\n",
       "       [0.98492462, 0.01507538],\n",
       "       [0.05263158, 0.94736842],\n",
       "       [0.        , 1.        ],\n",
       "       [0.98360656, 0.01639344],\n",
       "       [0.94329897, 0.05670103],\n",
       "       [0.99421965, 0.00578035],\n",
       "       [0.01041667, 0.98958333],\n",
       "       [0.34054054, 0.65945946],\n",
       "       [0.91878173, 0.08121827],\n",
       "       [1.        , 0.        ],\n",
       "       [0.96721311, 0.03278689],\n",
       "       [0.        , 1.        ],\n",
       "       [1.        , 0.        ],\n",
       "       [1.        , 0.        ],\n",
       "       [0.        , 1.        ],\n",
       "       [0.58730159, 0.41269841],\n",
       "       [0.        , 1.        ],\n",
       "       [1.        , 0.        ],\n",
       "       [0.        , 1.        ],\n",
       "       [0.        , 1.        ],\n",
       "       [0.14444444, 0.85555556],\n",
       "       [1.        , 0.        ],\n",
       "       [0.        , 1.        ],\n",
       "       [0.43678161, 0.56321839],\n",
       "       [0.        , 1.        ],\n",
       "       [1.        , 0.        ],\n",
       "       [0.25454545, 0.74545455],\n",
       "       [0.36464088, 0.63535912],\n",
       "       [1.        , 0.        ],\n",
       "       [1.        , 0.        ],\n",
       "       [0.        , 1.        ],\n",
       "       [1.        , 0.        ],\n",
       "       [1.        , 0.        ],\n",
       "       [0.01685393, 0.98314607],\n",
       "       [1.        , 0.        ],\n",
       "       [0.00543478, 0.99456522],\n",
       "       [0.9875    , 0.0125    ],\n",
       "       [0.91160221, 0.08839779],\n",
       "       [0.96858639, 0.03141361],\n",
       "       [0.94674556, 0.05325444],\n",
       "       [0.        , 1.        ],\n",
       "       [0.04864865, 0.95135135],\n",
       "       [0.98947368, 0.01052632],\n",
       "       [0.        , 1.        ],\n",
       "       [0.        , 1.        ],\n",
       "       [0.01111111, 0.98888889],\n",
       "       [0.99444444, 0.00555556],\n",
       "       [0.79032258, 0.20967742],\n",
       "       [0.3626943 , 0.6373057 ],\n",
       "       [1.        , 0.        ],\n",
       "       [0.        , 1.        ],\n",
       "       [0.6686747 , 0.3313253 ],\n",
       "       [1.        , 0.        ],\n",
       "       [1.        , 0.        ],\n",
       "       [0.89265537, 0.10734463],\n",
       "       [1.        , 0.        ],\n",
       "       [0.61702128, 0.38297872],\n",
       "       [0.15897436, 0.84102564],\n",
       "       [0.63157895, 0.36842105],\n",
       "       [0.92485549, 0.07514451],\n",
       "       [0.        , 1.        ],\n",
       "       [0.17708333, 0.82291667],\n",
       "       [0.84242424, 0.15757576],\n",
       "       [1.        , 0.        ],\n",
       "       [0.        , 1.        ],\n",
       "       [1.        , 0.        ],\n",
       "       [0.        , 1.        ],\n",
       "       [0.03664921, 0.96335079],\n",
       "       [0.06707317, 0.93292683],\n",
       "       [0.31016043, 0.68983957],\n",
       "       [1.        , 0.        ],\n",
       "       [0.        , 1.        ],\n",
       "       [0.82320442, 0.17679558],\n",
       "       [0.02061856, 0.97938144],\n",
       "       [0.        , 1.        ],\n",
       "       [0.00578035, 0.99421965],\n",
       "       [0.3258427 , 0.6741573 ],\n",
       "       [1.        , 0.        ],\n",
       "       [0.        , 1.        ],\n",
       "       [0.        , 1.        ],\n",
       "       [0.        , 1.        ],\n",
       "       [0.95121951, 0.04878049],\n",
       "       [0.7539267 , 0.2460733 ],\n",
       "       [0.        , 1.        ],\n",
       "       [1.        , 0.        ],\n",
       "       [0.1978022 , 0.8021978 ],\n",
       "       [0.65240642, 0.34759358],\n",
       "       [0.        , 1.        ],\n",
       "       [0.04945055, 0.95054945],\n",
       "       [0.45505618, 0.54494382],\n",
       "       [1.        , 0.        ],\n",
       "       [0.05494505, 0.94505495],\n",
       "       [0.995     , 0.005     ],\n",
       "       [0.30810811, 0.69189189],\n",
       "       [0.51960784, 0.48039216],\n",
       "       [1.        , 0.        ],\n",
       "       [0.        , 1.        ],\n",
       "       [0.97849462, 0.02150538],\n",
       "       [0.31216931, 0.68783069],\n",
       "       [0.89583333, 0.10416667],\n",
       "       [1.        , 0.        ],\n",
       "       [1.        , 0.        ],\n",
       "       [0.        , 1.        ],\n",
       "       [0.        , 1.        ],\n",
       "       [0.79545455, 0.20454545],\n",
       "       [1.        , 0.        ],\n",
       "       [0.00561798, 0.99438202],\n",
       "       [1.        , 0.        ],\n",
       "       [1.        , 0.        ],\n",
       "       [1.        , 0.        ],\n",
       "       [0.98843931, 0.01156069],\n",
       "       [1.        , 0.        ],\n",
       "       [0.        , 1.        ],\n",
       "       [0.95348837, 0.04651163],\n",
       "       [1.        , 0.        ],\n",
       "       [0.04347826, 0.95652174],\n",
       "       [0.27894737, 0.72105263],\n",
       "       [0.97395833, 0.02604167],\n",
       "       [0.23255814, 0.76744186],\n",
       "       [0.9947644 , 0.0052356 ],\n",
       "       [0.        , 1.        ],\n",
       "       [0.        , 1.        ],\n",
       "       [0.67977528, 0.32022472],\n",
       "       [0.39896373, 0.60103627],\n",
       "       [0.40340909, 0.59659091],\n",
       "       [0.82608696, 0.17391304],\n",
       "       [0.90116279, 0.09883721],\n",
       "       [0.07954545, 0.92045455],\n",
       "       [0.80327869, 0.19672131],\n",
       "       [0.        , 1.        ],\n",
       "       [0.        , 1.        ],\n",
       "       [0.01052632, 0.98947368],\n",
       "       [0.99447514, 0.00552486],\n",
       "       [1.        , 0.        ],\n",
       "       [1.        , 0.        ],\n",
       "       [0.01086957, 0.98913043],\n",
       "       [0.        , 1.        ],\n",
       "       [0.01744186, 0.98255814],\n",
       "       [0.        , 1.        ],\n",
       "       [1.        , 0.        ],\n",
       "       [1.        , 0.        ],\n",
       "       [0.9494382 , 0.0505618 ],\n",
       "       [1.        , 0.        ],\n",
       "       [1.        , 0.        ],\n",
       "       [0.99447514, 0.00552486],\n",
       "       [0.        , 1.        ],\n",
       "       [0.36526946, 0.63473054],\n",
       "       [0.26442308, 0.73557692],\n",
       "       [0.01190476, 0.98809524],\n",
       "       [0.        , 1.        ],\n",
       "       [0.26162791, 0.73837209],\n",
       "       [1.        , 0.        ],\n",
       "       [1.        , 0.        ],\n",
       "       [0.        , 1.        ],\n",
       "       [1.        , 0.        ],\n",
       "       [0.01104972, 0.98895028],\n",
       "       [0.        , 1.        ],\n",
       "       [0.97826087, 0.02173913],\n",
       "       [0.        , 1.        ],\n",
       "       [0.        , 1.        ],\n",
       "       [1.        , 0.        ],\n",
       "       [0.        , 1.        ],\n",
       "       [0.61375661, 0.38624339],\n",
       "       [0.93434343, 0.06565657],\n",
       "       [0.        , 1.        ],\n",
       "       [0.9895288 , 0.0104712 ],\n",
       "       [0.98984772, 0.01015228],\n",
       "       [1.        , 0.        ],\n",
       "       [0.        , 1.        ],\n",
       "       [0.        , 1.        ],\n",
       "       [1.        , 0.        ],\n",
       "       [0.10382514, 0.89617486],\n",
       "       [1.        , 0.        ],\n",
       "       [0.045     , 0.955     ],\n",
       "       [0.        , 1.        ],\n",
       "       [1.        , 0.        ],\n",
       "       [0.        , 1.        ],\n",
       "       [0.04102564, 0.95897436],\n",
       "       [0.99453552, 0.00546448],\n",
       "       [0.93717277, 0.06282723],\n",
       "       [0.68246445, 0.31753555],\n",
       "       [0.64      , 0.36      ],\n",
       "       [0.        , 1.        ],\n",
       "       [0.14450867, 0.85549133],\n",
       "       [1.        , 0.        ],\n",
       "       [0.95705521, 0.04294479],\n",
       "       [0.98701299, 0.01298701],\n",
       "       [1.        , 0.        ],\n",
       "       [0.01169591, 0.98830409],\n",
       "       [0.        , 1.        ],\n",
       "       [0.43283582, 0.56716418],\n",
       "       [0.86387435, 0.13612565],\n",
       "       [0.        , 1.        ],\n",
       "       [0.        , 1.        ],\n",
       "       [1.        , 0.        ],\n",
       "       [0.01086957, 0.98913043],\n",
       "       [0.        , 1.        ],\n",
       "       [0.95428571, 0.04571429],\n",
       "       [0.        , 1.        ],\n",
       "       [0.18181818, 0.81818182],\n",
       "       [0.        , 1.        ],\n",
       "       [1.        , 0.        ],\n",
       "       [0.        , 1.        ],\n",
       "       [0.00518135, 0.99481865],\n",
       "       [0.98421053, 0.01578947],\n",
       "       [0.85245902, 0.14754098],\n",
       "       [1.        , 0.        ],\n",
       "       [0.        , 1.        ],\n",
       "       [0.11351351, 0.88648649],\n",
       "       [0.99484536, 0.00515464],\n",
       "       [0.04166667, 0.95833333],\n",
       "       [0.        , 1.        ],\n",
       "       [0.01970443, 0.98029557],\n",
       "       [1.        , 0.        ],\n",
       "       [0.72881356, 0.27118644],\n",
       "       [0.        , 1.        ],\n",
       "       [0.93617021, 0.06382979],\n",
       "       [0.98958333, 0.01041667],\n",
       "       [0.19270833, 0.80729167],\n",
       "       [0.20903955, 0.79096045],\n",
       "       [1.        , 0.        ],\n",
       "       [0.        , 1.        ],\n",
       "       [0.00537634, 0.99462366],\n",
       "       [0.        , 1.        ],\n",
       "       [0.25146199, 0.74853801],\n",
       "       [0.97474747, 0.02525253],\n",
       "       [0.00543478, 0.99456522],\n",
       "       [1.        , 0.        ],\n",
       "       [0.99411765, 0.00588235],\n",
       "       [0.        , 1.        ],\n",
       "       [0.44623656, 0.55376344],\n",
       "       [1.        , 0.        ],\n",
       "       [0.        , 1.        ],\n",
       "       [1.        , 0.        ],\n",
       "       [0.00510204, 0.99489796],\n",
       "       [0.        , 1.        ],\n",
       "       [0.09039548, 0.90960452],\n",
       "       [0.10695187, 0.89304813],\n",
       "       [0.97894737, 0.02105263],\n",
       "       [0.01538462, 0.98461538],\n",
       "       [1.        , 0.        ],\n",
       "       [0.36065574, 0.63934426],\n",
       "       [0.10055866, 0.89944134],\n",
       "       [0.49222798, 0.50777202],\n",
       "       [0.54705882, 0.45294118],\n",
       "       [0.        , 1.        ],\n",
       "       [1.        , 0.        ],\n",
       "       [0.        , 1.        ],\n",
       "       [0.        , 1.        ],\n",
       "       [0.63535912, 0.36464088],\n",
       "       [0.        , 1.        ],\n",
       "       [1.        , 0.        ],\n",
       "       [0.27363184, 0.72636816],\n",
       "       [0.78698225, 0.21301775],\n",
       "       [0.0872093 , 0.9127907 ],\n",
       "       [1.        , 0.        ],\n",
       "       [0.82317073, 0.17682927],\n",
       "       [0.        , 1.        ],\n",
       "       [0.01036269, 0.98963731],\n",
       "       [0.12626263, 0.87373737],\n",
       "       [0.02793296, 0.97206704],\n",
       "       [0.        , 1.        ],\n",
       "       [0.99444444, 0.00555556],\n",
       "       [0.87777778, 0.12222222],\n",
       "       [0.13157895, 0.86842105],\n",
       "       [0.95628415, 0.04371585],\n",
       "       [0.0125    , 0.9875    ],\n",
       "       [0.61748634, 0.38251366],\n",
       "       [0.07514451, 0.92485549],\n",
       "       [0.98924731, 0.01075269],\n",
       "       [0.81714286, 0.18285714],\n",
       "       [0.        , 1.        ],\n",
       "       [0.99453552, 0.00546448],\n",
       "       [0.94871795, 0.05128205],\n",
       "       [0.        , 1.        ],\n",
       "       [0.        , 1.        ],\n",
       "       [1.        , 0.        ],\n",
       "       [0.        , 1.        ],\n",
       "       [1.        , 0.        ],\n",
       "       [0.2962963 , 0.7037037 ],\n",
       "       [0.98019802, 0.01980198],\n",
       "       [1.        , 0.        ],\n",
       "       [0.        , 1.        ],\n",
       "       [0.01104972, 0.98895028],\n",
       "       [0.86096257, 0.13903743],\n",
       "       [0.        , 1.        ],\n",
       "       [1.        , 0.        ],\n",
       "       [0.72571429, 0.27428571],\n",
       "       [0.90967742, 0.09032258],\n",
       "       [1.        , 0.        ],\n",
       "       [0.66666667, 0.33333333],\n",
       "       [0.51162791, 0.48837209],\n",
       "       [0.        , 1.        ],\n",
       "       [0.85549133, 0.14450867],\n",
       "       [0.        , 1.        ],\n",
       "       [1.        , 0.        ],\n",
       "       [0.8816568 , 0.1183432 ],\n",
       "       [1.        , 0.        ],\n",
       "       [1.        , 0.        ],\n",
       "       [0.73255814, 0.26744186],\n",
       "       [0.12820513, 0.87179487],\n",
       "       [0.52356021, 0.47643979],\n",
       "       [0.23163842, 0.76836158],\n",
       "       [0.        , 1.        ],\n",
       "       [0.87894737, 0.12105263],\n",
       "       [0.78947368, 0.21052632],\n",
       "       [0.        , 1.        ],\n",
       "       [1.        , 0.        ],\n",
       "       [0.98701299, 0.01298701],\n",
       "       [1.        , 0.        ],\n",
       "       [0.        , 1.        ],\n",
       "       [0.04      , 0.96      ],\n",
       "       [0.97395833, 0.02604167],\n",
       "       [0.94845361, 0.05154639],\n",
       "       [1.        , 0.        ],\n",
       "       [0.57142857, 0.42857143],\n",
       "       [1.        , 0.        ],\n",
       "       [0.        , 1.        ],\n",
       "       [0.99459459, 0.00540541],\n",
       "       [0.        , 1.        ],\n",
       "       [1.        , 0.        ],\n",
       "       [1.        , 0.        ],\n",
       "       [1.        , 0.        ],\n",
       "       [0.        , 1.        ],\n",
       "       [0.98067633, 0.01932367],\n",
       "       [0.        , 1.        ],\n",
       "       [0.07185629, 0.92814371],\n",
       "       [0.        , 1.        ],\n",
       "       [0.        , 1.        ],\n",
       "       [1.        , 0.        ],\n",
       "       [1.        , 0.        ],\n",
       "       [0.        , 1.        ],\n",
       "       [0.9947644 , 0.0052356 ],\n",
       "       [0.02061856, 0.97938144],\n",
       "       [1.        , 0.        ],\n",
       "       [0.16860465, 0.83139535],\n",
       "       [0.        , 1.        ],\n",
       "       [0.00584795, 0.99415205],\n",
       "       [0.        , 1.        ],\n",
       "       [0.36627907, 0.63372093],\n",
       "       [0.12631579, 0.87368421],\n",
       "       [0.26589595, 0.73410405],\n",
       "       [1.        , 0.        ],\n",
       "       [0.99459459, 0.00540541],\n",
       "       [0.19402985, 0.80597015],\n",
       "       [0.97701149, 0.02298851],\n",
       "       [0.        , 1.        ],\n",
       "       [0.        , 1.        ],\n",
       "       [1.        , 0.        ],\n",
       "       [0.96319018, 0.03680982],\n",
       "       [0.33862434, 0.66137566],\n",
       "       [0.98395722, 0.01604278],\n",
       "       [1.        , 0.        ],\n",
       "       [0.        , 1.        ],\n",
       "       [0.98882682, 0.01117318],\n",
       "       [0.        , 1.        ],\n",
       "       [0.05487805, 0.94512195],\n",
       "       [0.98461538, 0.01538462],\n",
       "       [1.        , 0.        ],\n",
       "       [0.06857143, 0.93142857],\n",
       "       [0.57920792, 0.42079208]])"
      ]
     },
     "execution_count": 90,
     "metadata": {},
     "output_type": "execute_result"
    }
   ],
   "source": [
    "bag_clf.oob_decision_function_"
   ]
  },
  {
   "cell_type": "markdown",
   "id": "19dfa1ad",
   "metadata": {},
   "source": [
    "## Random Patches method\n",
    "Instance sampling + Feature sampling\n",
    "\n",
    "\n",
    "## Random Subspace method\n",
    "Feature sampling (over all training dataset)"
   ]
  },
  {
   "cell_type": "raw",
   "id": "7de4fdd6",
   "metadata": {},
   "source": [
    "bag_clf = BaggingClassifier(\n",
    "    DecisionTreeClassifier(),\n",
    "    n_estimators=100,\n",
    "    max_features=,\n",
    "    bootstrap_features=,\n",
    "    max_samples=20\n",
    "    bootstrap=True,\n",
    ")"
   ]
  },
  {
   "cell_type": "markdown",
   "id": "57b4df01",
   "metadata": {},
   "source": [
    "## Random forest"
   ]
  },
  {
   "cell_type": "code",
   "execution_count": 91,
   "id": "1c3a356d",
   "metadata": {},
   "outputs": [],
   "source": [
    "from sklearn.ensemble import RandomForestClassifier"
   ]
  },
  {
   "cell_type": "code",
   "execution_count": 92,
   "id": "9cebe4cd",
   "metadata": {},
   "outputs": [
    {
     "data": {
      "text/plain": [
       "RandomForestClassifier(max_leaf_nodes=16, n_estimators=500, n_jobs=-1)"
      ]
     },
     "execution_count": 92,
     "metadata": {},
     "output_type": "execute_result"
    }
   ],
   "source": [
    "rnd_clf = RandomForestClassifier(n_estimators=500, max_leaf_nodes=16, n_jobs=-1)\n",
    "rnd_clf.fit(X_train, y_train)"
   ]
  },
  {
   "cell_type": "code",
   "execution_count": 93,
   "id": "5465e2f6",
   "metadata": {},
   "outputs": [],
   "source": [
    "y_pred = rnd_clf.predict(X_test)"
   ]
  },
  {
   "cell_type": "code",
   "execution_count": 94,
   "id": "0417120e",
   "metadata": {},
   "outputs": [
    {
     "data": {
      "text/plain": [
       "0.912"
      ]
     },
     "execution_count": 94,
     "metadata": {},
     "output_type": "execute_result"
    }
   ],
   "source": [
    "accuracy_score(y_test, y_pred)"
   ]
  },
  {
   "cell_type": "code",
   "execution_count": 95,
   "id": "7eb50f2a",
   "metadata": {},
   "outputs": [
    {
     "data": {
      "text/plain": [
       "BaggingClassifier(base_estimator=DecisionTreeClassifier(max_leaf_nodes=16,\n",
       "                                                        splitter='random'),\n",
       "                  n_estimators=500, n_jobs=-1)"
      ]
     },
     "execution_count": 95,
     "metadata": {},
     "output_type": "execute_result"
    }
   ],
   "source": [
    "bag_clf = BaggingClassifier(\n",
    "    DecisionTreeClassifier(splitter='random', max_leaf_nodes=16),\n",
    "    n_estimators=500,\n",
    "    max_samples=1.0,\n",
    "    bootstrap=True,\n",
    "    n_jobs=-1\n",
    ")\n",
    "bag_clf.fit(X_train, y_train)"
   ]
  },
  {
   "cell_type": "code",
   "execution_count": 96,
   "id": "e8ac65f4",
   "metadata": {},
   "outputs": [],
   "source": [
    "y_pred_bag = bag_clf.predict(X_test)"
   ]
  },
  {
   "cell_type": "code",
   "execution_count": 97,
   "id": "057b9b83",
   "metadata": {},
   "outputs": [
    {
     "data": {
      "text/plain": [
       "0.904"
      ]
     },
     "execution_count": 97,
     "metadata": {},
     "output_type": "execute_result"
    }
   ],
   "source": [
    "accuracy_score(y_test, y_pred_bag)"
   ]
  },
  {
   "cell_type": "code",
   "execution_count": 99,
   "id": "37c1f2db",
   "metadata": {},
   "outputs": [],
   "source": [
    "import numpy as np"
   ]
  },
  {
   "cell_type": "code",
   "execution_count": 100,
   "id": "9faa2e7c",
   "metadata": {},
   "outputs": [
    {
     "data": {
      "text/plain": [
       "1"
      ]
     },
     "execution_count": 100,
     "metadata": {},
     "output_type": "execute_result"
    }
   ],
   "source": [
    "np.sum(y_pred_bag != y_pred)"
   ]
  },
  {
   "cell_type": "code",
   "execution_count": 101,
   "id": "94c36ad8",
   "metadata": {},
   "outputs": [],
   "source": [
    "from sklearn.ensemble import ExtraTreesClassifier"
   ]
  },
  {
   "cell_type": "code",
   "execution_count": 102,
   "id": "d91cf8ea",
   "metadata": {},
   "outputs": [],
   "source": [
    "et_clf = ExtraTreesClassifier(n_estimators=500, n_jobs=-1)"
   ]
  },
  {
   "cell_type": "code",
   "execution_count": 103,
   "id": "466e8059",
   "metadata": {},
   "outputs": [
    {
     "data": {
      "text/plain": [
       "ExtraTreesClassifier(n_estimators=500, n_jobs=-1)"
      ]
     },
     "execution_count": 103,
     "metadata": {},
     "output_type": "execute_result"
    }
   ],
   "source": [
    "et_clf.fit(X_train, y_train)"
   ]
  },
  {
   "cell_type": "code",
   "execution_count": 106,
   "id": "cc97bad9",
   "metadata": {},
   "outputs": [],
   "source": [
    "iris = load_iris()\n",
    "X = iris.data[:,:]\n",
    "y = iris.target[:]"
   ]
  },
  {
   "cell_type": "code",
   "execution_count": 107,
   "id": "f28460c8",
   "metadata": {},
   "outputs": [
    {
     "data": {
      "text/plain": [
       "RandomForestClassifier(n_estimators=500, n_jobs=-1)"
      ]
     },
     "execution_count": 107,
     "metadata": {},
     "output_type": "execute_result"
    }
   ],
   "source": [
    "rnd_clf = RandomForestClassifier(n_estimators=500, n_jobs=-1)\n",
    "rnd_clf.fit(X, y)"
   ]
  },
  {
   "cell_type": "code",
   "execution_count": 108,
   "id": "a60e57d7",
   "metadata": {},
   "outputs": [
    {
     "data": {
      "text/plain": [
       "array([0.10915943, 0.02363308, 0.4349855 , 0.43222199])"
      ]
     },
     "execution_count": 108,
     "metadata": {},
     "output_type": "execute_result"
    }
   ],
   "source": [
    "rnd_clf.feature_importances_"
   ]
  },
  {
   "cell_type": "code",
   "execution_count": 109,
   "id": "cd02e537",
   "metadata": {},
   "outputs": [
    {
     "name": "stdout",
     "output_type": "stream",
     "text": [
      "Feature sepal length (cm): 0.1091594263454736\n",
      "Feature sepal width (cm): 0.023633082005447843\n",
      "Feature petal length (cm): 0.43498550355421495\n",
      "Feature petal width (cm): 0.43222198809486373\n"
     ]
    }
   ],
   "source": [
    "for name, score in zip(iris['feature_names'], rnd_clf.feature_importances_):\n",
    "    print(f'Feature {name}: {score}')"
   ]
  },
  {
   "cell_type": "markdown",
   "id": "7a53e4c5",
   "metadata": {},
   "source": [
    "## AdaBoost"
   ]
  },
  {
   "cell_type": "code",
   "execution_count": 110,
   "id": "20a01b76",
   "metadata": {},
   "outputs": [],
   "source": [
    "from sklearn.ensemble import AdaBoostClassifier"
   ]
  },
  {
   "cell_type": "markdown",
   "id": "a61ead34",
   "metadata": {},
   "source": [
    "SAMME: Stagewise Additive Modeling using a Multiclass Exponential loss function"
   ]
  },
  {
   "cell_type": "code",
   "execution_count": 111,
   "id": "85df6070",
   "metadata": {},
   "outputs": [],
   "source": [
    "ada_clf = AdaBoostClassifier(\n",
    "    DecisionTreeClassifier(max_depth=1),\n",
    "    n_estimators=300,\n",
    "    algorithm='SAMME.R',\n",
    "    learning_rate=0.5\n",
    ")"
   ]
  },
  {
   "cell_type": "code",
   "execution_count": 112,
   "id": "c6a1884a",
   "metadata": {},
   "outputs": [
    {
     "data": {
      "text/plain": [
       "AdaBoostClassifier(base_estimator=DecisionTreeClassifier(max_depth=1),\n",
       "                   learning_rate=0.5, n_estimators=300)"
      ]
     },
     "execution_count": 112,
     "metadata": {},
     "output_type": "execute_result"
    }
   ],
   "source": [
    "ada_clf.fit(X_train, y_train)"
   ]
  },
  {
   "cell_type": "markdown",
   "id": "f94a59ab",
   "metadata": {},
   "source": [
    "## Gradient Boosting"
   ]
  },
  {
   "cell_type": "code",
   "execution_count": 114,
   "id": "b5e8f4f7",
   "metadata": {},
   "outputs": [],
   "source": [
    "from sklearn.tree import DecisionTreeRegressor"
   ]
  },
  {
   "cell_type": "code",
   "execution_count": 118,
   "id": "fea0fe4e",
   "metadata": {},
   "outputs": [
    {
     "data": {
      "text/plain": [
       "((100,), (100,))"
      ]
     },
     "execution_count": 118,
     "metadata": {},
     "output_type": "execute_result"
    }
   ],
   "source": [
    "X = np.linspace(-10, 10, 100)\n",
    "y = X ** 2 + 5 * X - 1 + np.random.randn(100) * 5\n",
    "X.shape, y.shape"
   ]
  },
  {
   "cell_type": "code",
   "execution_count": 119,
   "id": "a2ca0606",
   "metadata": {},
   "outputs": [],
   "source": [
    "import matplotlib.pyplot as plt\n",
    "%matplotlib inline"
   ]
  },
  {
   "cell_type": "code",
   "execution_count": 120,
   "id": "942d0833",
   "metadata": {},
   "outputs": [
    {
     "data": {
      "text/plain": [
       "[<matplotlib.lines.Line2D at 0x7f067a79c550>]"
      ]
     },
     "execution_count": 120,
     "metadata": {},
     "output_type": "execute_result"
    },
    {
     "data": {
      "image/png": "[encoded data removed]",
      "text/plain": [
       "<Figure size 432x288 with 1 Axes>"
      ]
     },
     "metadata": {
      "needs_background": "light"
     },
     "output_type": "display_data"
    }
   ],
   "source": [
    "plt.plot(X, y, 'r.')"
   ]
  },
  {
   "cell_type": "code",
   "execution_count": 124,
   "id": "91b5866e",
   "metadata": {},
   "outputs": [
    {
     "data": {
      "text/plain": [
       "DecisionTreeRegressor(max_depth=2)"
      ]
     },
     "execution_count": 124,
     "metadata": {},
     "output_type": "execute_result"
    }
   ],
   "source": [
    "X = X.reshape(-1,1)\n",
    "tree_reg1 = DecisionTreeRegressor(max_depth=2)\n",
    "tree_reg1.fit(X, y)"
   ]
  },
  {
   "cell_type": "code",
   "execution_count": 125,
   "id": "4d07ddf3",
   "metadata": {},
   "outputs": [],
   "source": [
    "y2 = y - tree_reg1.predict(X)"
   ]
  },
  {
   "cell_type": "code",
   "execution_count": 126,
   "id": "f99d95e9",
   "metadata": {},
   "outputs": [
    {
     "data": {
      "text/plain": [
       "DecisionTreeRegressor(max_depth=2)"
      ]
     },
     "execution_count": 126,
     "metadata": {},
     "output_type": "execute_result"
    }
   ],
   "source": [
    "tree_reg2 = DecisionTreeRegressor(max_depth=2)\n",
    "tree_reg2.fit(X, y2)"
   ]
  },
  {
   "cell_type": "code",
   "execution_count": 127,
   "id": "16524ed5",
   "metadata": {},
   "outputs": [],
   "source": [
    "y3 = y2 - tree_reg2.predict(X)"
   ]
  },
  {
   "cell_type": "code",
   "execution_count": 128,
   "id": "06ac722c",
   "metadata": {},
   "outputs": [
    {
     "data": {
      "text/plain": [
       "DecisionTreeRegressor(max_depth=2)"
      ]
     },
     "execution_count": 128,
     "metadata": {},
     "output_type": "execute_result"
    }
   ],
   "source": [
    "tree_reg3 = DecisionTreeRegressor(max_depth=2)\n",
    "tree_reg3.fit(X, y3)"
   ]
  },
  {
   "cell_type": "code",
   "execution_count": 113,
   "id": "01997b7b",
   "metadata": {},
   "outputs": [],
   "source": [
    "from sklearn.ensemble import GradientBoostingRegressor"
   ]
  },
  {
   "cell_type": "code",
   "execution_count": 129,
   "id": "0b7d66b9",
   "metadata": {},
   "outputs": [
    {
     "data": {
      "text/plain": [
       "GradientBoostingRegressor(learning_rate=1.0, max_depth=2, n_estimators=3)"
      ]
     },
     "execution_count": 129,
     "metadata": {},
     "output_type": "execute_result"
    }
   ],
   "source": [
    "gb_reg = GradientBoostingRegressor(max_depth=2, n_estimators=3, learning_rate=1.0)\n",
    "gb_reg.fit(X, y)"
   ]
  },
  {
   "cell_type": "markdown",
   "id": "73429938",
   "metadata": {},
   "source": [
    "## Early stopping"
   ]
  },
  {
   "cell_type": "code",
   "execution_count": 131,
   "id": "aec58bc6",
   "metadata": {},
   "outputs": [],
   "source": [
    "from sklearn.model_selection import train_test_split\n",
    "from sklearn.metrics import mean_squared_error"
   ]
  },
  {
   "cell_type": "code",
   "execution_count": 132,
   "id": "c64ec6b3",
   "metadata": {},
   "outputs": [],
   "source": [
    "X_train, X_val, y_train, y_val = train_test_split(X, y)"
   ]
  },
  {
   "cell_type": "code",
   "execution_count": 133,
   "id": "ebffe34a",
   "metadata": {},
   "outputs": [
    {
     "data": {
      "text/plain": [
       "GradientBoostingRegressor(max_depth=2, n_estimators=200)"
      ]
     },
     "execution_count": 133,
     "metadata": {},
     "output_type": "execute_result"
    }
   ],
   "source": [
    "gb_reg = GradientBoostingRegressor(max_depth=2, n_estimators=200, learning_rate=0.1)\n",
    "gb_reg.fit(X_train, y_train)"
   ]
  },
  {
   "cell_type": "code",
   "execution_count": 134,
   "id": "08129f1b",
   "metadata": {},
   "outputs": [],
   "source": [
    "errors = [\n",
    "    mean_squared_error(y_val, y_pred) for y_pred in gb_reg.staged_predict(X_val)\n",
    "]"
   ]
  },
  {
   "cell_type": "code",
   "execution_count": 141,
   "id": "0dd7bdc4",
   "metadata": {},
   "outputs": [
    {
     "data": {
      "text/plain": [
       "[<matplotlib.lines.Line2D at 0x7f067a329d00>]"
      ]
     },
     "execution_count": 141,
     "metadata": {},
     "output_type": "execute_result"
    },
    {
     "data": {
      "image/png": "[encoded data removed]",
      "text/plain": [
       "<Figure size 432x288 with 1 Axes>"
      ]
     },
     "metadata": {
      "needs_background": "light"
     },
     "output_type": "display_data"
    }
   ],
   "source": [
    "plt.plot(np.arange(len(errors))[-100:], errors[-100:], 'r.')"
   ]
  },
  {
   "cell_type": "code",
   "execution_count": 142,
   "id": "30e6721e",
   "metadata": {},
   "outputs": [
    {
     "data": {
      "text/plain": [
       "84"
      ]
     },
     "execution_count": 142,
     "metadata": {},
     "output_type": "execute_result"
    }
   ],
   "source": [
    "best_n = np.argmin(errors) + 1 \n",
    "best_n"
   ]
  },
  {
   "cell_type": "code",
   "execution_count": 143,
   "id": "49d25f7d",
   "metadata": {},
   "outputs": [
    {
     "data": {
      "text/plain": [
       "GradientBoostingRegressor(max_depth=2, n_estimators=84)"
      ]
     },
     "execution_count": 143,
     "metadata": {},
     "output_type": "execute_result"
    }
   ],
   "source": [
    "gb_reg = GradientBoostingRegressor(max_depth=2, n_estimators=best_n, learning_rate=0.1)\n",
    "gb_reg.fit(X_train, y_train)"
   ]
  },
  {
   "cell_type": "code",
   "execution_count": 144,
   "id": "8df9562a",
   "metadata": {},
   "outputs": [],
   "source": [
    "gb_reg = GradientBoostingRegressor(max_depth=2, n_estimators=best_n, learning_rate=0.1, warm_start=True)\n",
    "\n",
    "min_val_error = float('inf')\n",
    "non_decreasing_count = 0\n",
    "for n_estimator in range(1,200):\n",
    "    gb_reg.n_estimators = n_estimator\n",
    "    gb_reg.fit(X_train, y_train)\n",
    "    y_pred = gb_reg.predict(X_val)\n",
    "    val_error = mean_squared_error(y_val, y_pred)\n",
    "    \n",
    "    if val_error < min_val_error:\n",
    "        min_val_error = val_error\n",
    "        non_decreasing_count = 0\n",
    "    else:\n",
    "        non_decreasing_count += 1\n",
    "        if (non_decreasing_count >= 5):\n",
    "            break # early stopping"
   ]
  },
  {
   "cell_type": "code",
   "execution_count": 145,
   "id": "d41507ee",
   "metadata": {},
   "outputs": [
    {
     "data": {
      "text/plain": [
       "53"
      ]
     },
     "execution_count": 145,
     "metadata": {},
     "output_type": "execute_result"
    }
   ],
   "source": [
    "n_estimator"
   ]
  },
  {
   "cell_type": "raw",
   "id": "d210dade",
   "metadata": {},
   "source": [
    "!pip install xgboost"
   ]
  },
  {
   "cell_type": "markdown",
   "id": "1b52d0ea",
   "metadata": {},
   "source": [
    "## XGBoost"
   ]
  },
  {
   "cell_type": "code",
   "execution_count": 147,
   "id": "80f69461",
   "metadata": {},
   "outputs": [],
   "source": [
    "import xgboost as xgb"
   ]
  },
  {
   "cell_type": "code",
   "execution_count": 148,
   "id": "956f1ad8",
   "metadata": {},
   "outputs": [],
   "source": [
    "xgb_reg = xgb.XGBRegressor()\n",
    "xgb_reg.fit(X_train, y_train)\n",
    "y_val = xgb_reg.predict(X_val)"
   ]
  },
  {
   "cell_type": "code",
   "execution_count": 149,
   "id": "f0c20aa6",
   "metadata": {},
   "outputs": [
    {
     "name": "stdout",
     "output_type": "stream",
     "text": [
      "[0]\tvalidation_0-rmse:45.19752\n",
      "[1]\tvalidation_0-rmse:34.80553\n",
      "[2]\tvalidation_0-rmse:27.29507\n",
      "[3]\tvalidation_0-rmse:20.94806\n",
      "[4]\tvalidation_0-rmse:16.23381\n",
      "[5]\tvalidation_0-rmse:12.69590\n",
      "[6]\tvalidation_0-rmse:10.03574\n",
      "[7]\tvalidation_0-rmse:7.97120\n",
      "[8]\tvalidation_0-rmse:6.38110\n",
      "[9]\tvalidation_0-rmse:5.23001\n",
      "[10]\tvalidation_0-rmse:4.39019\n",
      "[11]\tvalidation_0-rmse:3.80802\n",
      "[12]\tvalidation_0-rmse:3.31946\n",
      "[13]\tvalidation_0-rmse:2.93248\n",
      "[14]\tvalidation_0-rmse:2.58471\n",
      "[15]\tvalidation_0-rmse:2.32417\n",
      "[16]\tvalidation_0-rmse:2.13346\n",
      "[17]\tvalidation_0-rmse:1.94976\n",
      "[18]\tvalidation_0-rmse:1.84143\n",
      "[19]\tvalidation_0-rmse:1.71557\n",
      "[20]\tvalidation_0-rmse:1.64779\n",
      "[21]\tvalidation_0-rmse:1.55526\n",
      "[22]\tvalidation_0-rmse:1.51592\n",
      "[23]\tvalidation_0-rmse:1.47396\n",
      "[24]\tvalidation_0-rmse:1.41065\n",
      "[25]\tvalidation_0-rmse:1.29107\n",
      "[26]\tvalidation_0-rmse:1.25762\n",
      "[27]\tvalidation_0-rmse:1.23383\n",
      "[28]\tvalidation_0-rmse:1.16193\n",
      "[29]\tvalidation_0-rmse:1.12183\n",
      "[30]\tvalidation_0-rmse:1.08855\n",
      "[31]\tvalidation_0-rmse:1.05991\n",
      "[32]\tvalidation_0-rmse:0.97075\n",
      "[33]\tvalidation_0-rmse:0.90840\n",
      "[34]\tvalidation_0-rmse:0.88391\n",
      "[35]\tvalidation_0-rmse:0.84100\n",
      "[36]\tvalidation_0-rmse:0.77844\n",
      "[37]\tvalidation_0-rmse:0.76078\n",
      "[38]\tvalidation_0-rmse:0.74008\n",
      "[39]\tvalidation_0-rmse:0.69175\n",
      "[40]\tvalidation_0-rmse:0.67641\n",
      "[41]\tvalidation_0-rmse:0.62765\n",
      "[42]\tvalidation_0-rmse:0.58732\n",
      "[43]\tvalidation_0-rmse:0.57635\n",
      "[44]\tvalidation_0-rmse:0.56368\n",
      "[45]\tvalidation_0-rmse:0.53212\n",
      "[46]\tvalidation_0-rmse:0.48946\n",
      "[47]\tvalidation_0-rmse:0.47692\n",
      "[48]\tvalidation_0-rmse:0.45072\n",
      "[49]\tvalidation_0-rmse:0.44566\n",
      "[50]\tvalidation_0-rmse:0.42712\n",
      "[51]\tvalidation_0-rmse:0.42275\n",
      "[52]\tvalidation_0-rmse:0.40975\n",
      "[53]\tvalidation_0-rmse:0.37014\n",
      "[54]\tvalidation_0-rmse:0.35480\n",
      "[55]\tvalidation_0-rmse:0.35113\n",
      "[56]\tvalidation_0-rmse:0.34116\n",
      "[57]\tvalidation_0-rmse:0.30830\n",
      "[58]\tvalidation_0-rmse:0.29887\n",
      "[59]\tvalidation_0-rmse:0.28788\n",
      "[60]\tvalidation_0-rmse:0.28487\n",
      "[61]\tvalidation_0-rmse:0.27744\n",
      "[62]\tvalidation_0-rmse:0.27537\n",
      "[63]\tvalidation_0-rmse:0.25059\n",
      "[64]\tvalidation_0-rmse:0.22875\n",
      "[65]\tvalidation_0-rmse:0.21670\n",
      "[66]\tvalidation_0-rmse:0.19951\n",
      "[67]\tvalidation_0-rmse:0.18843\n",
      "[68]\tvalidation_0-rmse:0.18256\n",
      "[69]\tvalidation_0-rmse:0.17619\n",
      "[70]\tvalidation_0-rmse:0.16789\n",
      "[71]\tvalidation_0-rmse:0.15285\n",
      "[72]\tvalidation_0-rmse:0.14582\n",
      "[73]\tvalidation_0-rmse:0.13733\n",
      "[74]\tvalidation_0-rmse:0.12511\n",
      "[75]\tvalidation_0-rmse:0.12202\n",
      "[76]\tvalidation_0-rmse:0.11329\n",
      "[77]\tvalidation_0-rmse:0.10865\n",
      "[78]\tvalidation_0-rmse:0.09865\n",
      "[79]\tvalidation_0-rmse:0.08921\n",
      "[80]\tvalidation_0-rmse:0.08400\n",
      "[81]\tvalidation_0-rmse:0.07544\n",
      "[82]\tvalidation_0-rmse:0.07261\n",
      "[83]\tvalidation_0-rmse:0.07114\n",
      "[84]\tvalidation_0-rmse:0.06739\n",
      "[85]\tvalidation_0-rmse:0.06582\n",
      "[86]\tvalidation_0-rmse:0.06381\n",
      "[87]\tvalidation_0-rmse:0.06224\n",
      "[88]\tvalidation_0-rmse:0.05764\n",
      "[89]\tvalidation_0-rmse:0.04634\n",
      "[90]\tvalidation_0-rmse:0.04096\n",
      "[91]\tvalidation_0-rmse:0.03704\n",
      "[92]\tvalidation_0-rmse:0.03041\n",
      "[93]\tvalidation_0-rmse:0.02466\n",
      "[94]\tvalidation_0-rmse:0.02349\n",
      "[95]\tvalidation_0-rmse:0.01997\n",
      "[96]\tvalidation_0-rmse:0.01912\n",
      "[97]\tvalidation_0-rmse:0.01179\n",
      "[98]\tvalidation_0-rmse:0.00846\n",
      "[99]\tvalidation_0-rmse:0.00000\n"
     ]
    },
    {
     "data": {
      "text/plain": [
       "XGBRegressor(base_score=0.5, booster='gbtree', colsample_bylevel=1,\n",
       "             colsample_bynode=1, colsample_bytree=1, enable_categorical=False,\n",
       "             gamma=0, gpu_id=-1, importance_type=None,\n",
       "             interaction_constraints='', learning_rate=0.300000012,\n",
       "             max_delta_step=0, max_depth=6, min_child_weight=1, missing=nan,\n",
       "             monotone_constraints='()', n_estimators=100, n_jobs=8,\n",
       "             num_parallel_tree=1, predictor='auto', random_state=0, reg_alpha=0,\n",
       "             reg_lambda=1, scale_pos_weight=1, subsample=1, tree_method='exact',\n",
       "             validate_parameters=1, verbosity=None)"
      ]
     },
     "execution_count": 149,
     "metadata": {},
     "output_type": "execute_result"
    }
   ],
   "source": [
    "xgb_reg = xgb.XGBRegressor()\n",
    "xgb_reg.fit(X_train, y_train, \n",
    "            eval_set=[(X_val, y_val)], early_stopping_rounds=5\n",
    "           )"
   ]
  },
  {
   "cell_type": "code",
   "execution_count": null,
   "id": "c6ce1d48",
   "metadata": {},
   "outputs": [],
   "source": []
  }
 ],
 "metadata": {
  "kernelspec": {
   "display_name": "Python 3",
   "language": "python",
   "name": "python3"
  },
  "language_info": {
   "codemirror_mode": {
    "name": "ipython",
    "version": 3
   },
   "file_extension": ".py",
   "mimetype": "text/x-python",
   "name": "python",
   "nbconvert_exporter": "python",
   "pygments_lexer": "ipython3",
   "version": "3.8.8"
  }
 },
 "nbformat": 4,
 "nbformat_minor": 5
}
