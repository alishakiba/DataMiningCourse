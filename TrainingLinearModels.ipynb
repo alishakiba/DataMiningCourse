{
 "cells": [
  {
   "cell_type": "code",
   "execution_count": 1,
   "id": "07cd7794",
   "metadata": {},
   "outputs": [],
   "source": [
    "import numpy as np\n",
    "import matplotlib.pyplot as plt\n",
    "%matplotlib inline"
   ]
  },
  {
   "cell_type": "markdown",
   "id": "87ccd9aa",
   "metadata": {},
   "source": [
    "# Linear Regression\n",
    "## The Normal Equation"
   ]
  },
  {
   "cell_type": "code",
   "execution_count": 2,
   "id": "65e00aee",
   "metadata": {},
   "outputs": [],
   "source": [
    "X = 3 * np.random.rand(200, 1)\n",
    "y = -5 + 2 * X + np.random.randn(200, 1)"
   ]
  },
  {
   "cell_type": "code",
   "execution_count": 3,
   "id": "8bb6bf16",
   "metadata": {},
   "outputs": [
    {
     "data": {
      "image/png": "[encoded data removed]",
      "text/plain": [
       "<Figure size 432x288 with 1 Axes>"
      ]
     },
     "metadata": {
      "needs_background": "light"
     },
     "output_type": "display_data"
    }
   ],
   "source": [
    "plt.plot(X, y, '.')\n",
    "plt.show()"
   ]
  },
  {
   "cell_type": "code",
   "execution_count": 4,
   "id": "52d7a1a7",
   "metadata": {},
   "outputs": [],
   "source": [
    "X_b = np.c_[np.ones((200, 1)), X]\n",
    "best_theta = np.linalg.inv(X_b.T.dot(X_b)).dot(X_b.T).dot(y)"
   ]
  },
  {
   "cell_type": "code",
   "execution_count": 5,
   "id": "5e5b5830",
   "metadata": {},
   "outputs": [
    {
     "data": {
      "text/plain": [
       "array([[-5.14381262],\n",
       "       [ 2.10983929]])"
      ]
     },
     "execution_count": 5,
     "metadata": {},
     "output_type": "execute_result"
    }
   ],
   "source": [
    "best_theta"
   ]
  },
  {
   "cell_type": "code",
   "execution_count": 6,
   "id": "3c2106b3",
   "metadata": {},
   "outputs": [
    {
     "data": {
      "text/plain": [
       "array([[-5.14381262],\n",
       "       [ 1.18570524]])"
      ]
     },
     "execution_count": 6,
     "metadata": {},
     "output_type": "execute_result"
    }
   ],
   "source": [
    "X_new = np.array([[0], [3]])\n",
    "X_new_b = np.c_[np.ones((2,1)), X_new]\n",
    "y_predict = X_new_b.dot(best_theta)\n",
    "y_predict"
   ]
  },
  {
   "cell_type": "code",
   "execution_count": 7,
   "id": "aeed3746",
   "metadata": {},
   "outputs": [
    {
     "data": {
      "image/png": "[encoded data removed]",
      "text/plain": [
       "<Figure size 432x288 with 1 Axes>"
      ]
     },
     "metadata": {
      "needs_background": "light"
     },
     "output_type": "display_data"
    }
   ],
   "source": [
    "plt.plot(X_new, y_predict, 'r-')\n",
    "plt.plot(X, y, '.b')\n",
    "plt.show()"
   ]
  },
  {
   "cell_type": "code",
   "execution_count": 8,
   "id": "c52e6cbd",
   "metadata": {},
   "outputs": [],
   "source": [
    "from sklearn.linear_model import LinearRegression"
   ]
  },
  {
   "cell_type": "code",
   "execution_count": 9,
   "id": "5b4e6259",
   "metadata": {},
   "outputs": [
    {
     "data": {
      "text/plain": [
       "LinearRegression()"
      ]
     },
     "execution_count": 9,
     "metadata": {},
     "output_type": "execute_result"
    }
   ],
   "source": [
    "lin_reg = LinearRegression()\n",
    "lin_reg.fit(X, y)"
   ]
  },
  {
   "cell_type": "code",
   "execution_count": 10,
   "id": "c2ed2ac0",
   "metadata": {},
   "outputs": [
    {
     "data": {
      "text/plain": [
       "array([-5.14381262])"
      ]
     },
     "execution_count": 10,
     "metadata": {},
     "output_type": "execute_result"
    }
   ],
   "source": [
    "lin_reg.intercept_"
   ]
  },
  {
   "cell_type": "code",
   "execution_count": 11,
   "id": "d3647309",
   "metadata": {},
   "outputs": [
    {
     "data": {
      "text/plain": [
       "array([[2.10983929]])"
      ]
     },
     "execution_count": 11,
     "metadata": {},
     "output_type": "execute_result"
    }
   ],
   "source": [
    "lin_reg.coef_"
   ]
  },
  {
   "cell_type": "markdown",
   "id": "69abd287",
   "metadata": {},
   "source": [
    "# Gradient Descent\n",
    "\n",
    "## Batch Gradient Descent"
   ]
  },
  {
   "cell_type": "code",
   "execution_count": 13,
   "id": "ca28f403",
   "metadata": {},
   "outputs": [],
   "source": [
    "eta = 0.1 # learning rate\n",
    "max_iterations = 1000\n",
    "m = 200 # number of samples\n",
    "\n",
    "theta = np.random.randn(2,1) # random initialization\n",
    "\n",
    "for i in range(max_iterations):\n",
    "    gradient = 2 / m * X_b.T.dot(X_b.dot(theta) - y)\n",
    "    theta = theta - eta * gradient"
   ]
  },
  {
   "cell_type": "code",
   "execution_count": 14,
   "id": "56ca3e49",
   "metadata": {},
   "outputs": [
    {
     "data": {
      "text/plain": [
       "array([[-5.14381262],\n",
       "       [ 2.10983929]])"
      ]
     },
     "execution_count": 14,
     "metadata": {},
     "output_type": "execute_result"
    }
   ],
   "source": [
    "theta"
   ]
  },
  {
   "cell_type": "markdown",
   "id": "e97838c5",
   "metadata": {},
   "source": [
    "## Stochastic GD with learning schedule"
   ]
  },
  {
   "cell_type": "code",
   "execution_count": 15,
   "id": "6a298d08",
   "metadata": {},
   "outputs": [],
   "source": [
    "n_epoch = 50"
   ]
  },
  {
   "cell_type": "code",
   "execution_count": 16,
   "id": "19652434",
   "metadata": {},
   "outputs": [],
   "source": [
    "def learning_schedule(t, t0=5, t1=50):\n",
    "    return t0 / (t + t1)"
   ]
  },
  {
   "cell_type": "code",
   "execution_count": 17,
   "id": "18d652f6",
   "metadata": {},
   "outputs": [
    {
     "name": "stdout",
     "output_type": "stream",
     "text": [
      "0.1\t0.09803921568627451\t0.09615384615384616\t0.09433962264150944\t0.09259259259259259\t0.09090909090909091\t0.08928571428571429\t0.08771929824561403\t0.08620689655172414\t0.0847457627118644\t0.08333333333333333\t0.08196721311475409\t0.08064516129032258\t0.07936507936507936\t0.078125\t0.07692307692307693\t0.07575757575757576\t0.07462686567164178\t0.07352941176470588\t0.07246376811594203\t0.07142857142857142\t0.07042253521126761\t0.06944444444444445\t0.0684931506849315\t0.06756756756756757\t0.06666666666666667\t0.06578947368421052\t0.06493506493506493\t0.0641025641025641\t0.06329113924050633\t0.0625\t0.06172839506172839\t0.06097560975609756\t0.060240963855421686\t0.05952380952380952\t0.058823529411764705\t0.05813953488372093\t0.05747126436781609\t0.056818181818181816\t0.056179775280898875\t0.05555555555555555\t0.054945054945054944\t0.05434782608695652\t0.053763440860215055\t0.05319148936170213\t0.05263157894736842\t0.052083333333333336\t0.05154639175257732\t0.05102040816326531\t0.050505050505050504\t\n"
     ]
    }
   ],
   "source": [
    "for i in range(n_epoch):\n",
    "    print(learning_schedule(i), end='\\t')\n",
    "print()"
   ]
  },
  {
   "cell_type": "code",
   "execution_count": 18,
   "id": "c9b27bf1",
   "metadata": {},
   "outputs": [
    {
     "data": {
      "text/plain": [
       "array([[-0.31275422],\n",
       "       [-0.0283996 ]])"
      ]
     },
     "execution_count": 18,
     "metadata": {},
     "output_type": "execute_result"
    }
   ],
   "source": [
    "theta = np.random.randn(2, 1)\n",
    "theta"
   ]
  },
  {
   "cell_type": "code",
   "execution_count": 19,
   "id": "f71c05ab",
   "metadata": {},
   "outputs": [],
   "source": [
    "for epoch in range(n_epoch):\n",
    "    for i in range(m):\n",
    "        random_index = np.random.randint(m) # choosing an instance by random (uniform dist)\n",
    "        xi = X_b[random_index:random_index+1]\n",
    "        yi = y[random_index:random_index+1]\n",
    "        gradients = 2 * xi.T.dot(xi.dot(theta) - yi)\n",
    "        eta = learning_schedule(epoch * m + i)\n",
    "        theta = theta - eta * gradients"
   ]
  },
  {
   "cell_type": "code",
   "execution_count": 20,
   "id": "02da946e",
   "metadata": {},
   "outputs": [
    {
     "data": {
      "text/plain": [
       "array([[-5.14965536],\n",
       "       [ 2.06805895]])"
      ]
     },
     "execution_count": 20,
     "metadata": {},
     "output_type": "execute_result"
    }
   ],
   "source": [
    "theta"
   ]
  },
  {
   "cell_type": "code",
   "execution_count": 21,
   "id": "9112b040",
   "metadata": {},
   "outputs": [],
   "source": [
    "from sklearn.linear_model import SGDRegressor"
   ]
  },
  {
   "cell_type": "code",
   "execution_count": 22,
   "id": "b898ccc0",
   "metadata": {},
   "outputs": [
    {
     "data": {
      "text/plain": [
       "SGDRegressor(eta0=0.1, penalty=None)"
      ]
     },
     "execution_count": 22,
     "metadata": {},
     "output_type": "execute_result"
    }
   ],
   "source": [
    "sgd_reg = SGDRegressor(max_iter=1000, tol=1e-3, penalty=None, eta0=0.1)\n",
    "sgd_reg.fit(X, y.ravel())"
   ]
  },
  {
   "cell_type": "code",
   "execution_count": 23,
   "id": "17ba7ba2",
   "metadata": {},
   "outputs": [
    {
     "data": {
      "text/plain": [
       "(array([-5.12832709]), array([2.11018665]))"
      ]
     },
     "execution_count": 23,
     "metadata": {},
     "output_type": "execute_result"
    }
   ],
   "source": [
    "sgd_reg.intercept_, sgd_reg.coef_"
   ]
  },
  {
   "cell_type": "markdown",
   "id": "d82150ac",
   "metadata": {},
   "source": [
    "# Polynomial Regression"
   ]
  },
  {
   "cell_type": "code",
   "execution_count": 24,
   "id": "b627a74b",
   "metadata": {},
   "outputs": [],
   "source": [
    "m = 100\n",
    "X = 6 * np.random.rand(m,1) - 3\n",
    "y = 0.9 * X ** 2 + X + 2 + np.random.randn(m, 1)"
   ]
  },
  {
   "cell_type": "code",
   "execution_count": 25,
   "id": "3d85ad1b",
   "metadata": {},
   "outputs": [
    {
     "data": {
      "image/png": "[encoded data removed]",
      "text/plain": [
       "<Figure size 432x288 with 1 Axes>"
      ]
     },
     "metadata": {
      "needs_background": "light"
     },
     "output_type": "display_data"
    }
   ],
   "source": [
    "plt.plot(X, y, 'b*')\n",
    "plt.show()"
   ]
  },
  {
   "cell_type": "code",
   "execution_count": 26,
   "id": "924d36c2",
   "metadata": {},
   "outputs": [],
   "source": [
    "from sklearn.preprocessing import PolynomialFeatures"
   ]
  },
  {
   "cell_type": "code",
   "execution_count": 27,
   "id": "65fffbe9",
   "metadata": {},
   "outputs": [],
   "source": [
    "poly_features = PolynomialFeatures(degree=2, include_bias=False)\n",
    "X_poly = poly_features.fit_transform(X)"
   ]
  },
  {
   "cell_type": "code",
   "execution_count": 28,
   "id": "0c63ec38",
   "metadata": {},
   "outputs": [
    {
     "data": {
      "text/plain": [
       "(array([-0.89555174]), array([-0.89555174,  0.80201291]))"
      ]
     },
     "execution_count": 28,
     "metadata": {},
     "output_type": "execute_result"
    }
   ],
   "source": [
    "X[0], X_poly[0]"
   ]
  },
  {
   "cell_type": "code",
   "execution_count": 29,
   "id": "1c9e21ff",
   "metadata": {},
   "outputs": [
    {
     "data": {
      "text/plain": [
       "(array([2.07996627]), array([[0.98886867, 0.88889721]]))"
      ]
     },
     "execution_count": 29,
     "metadata": {},
     "output_type": "execute_result"
    }
   ],
   "source": [
    "lin_reg = LinearRegression()\n",
    "lin_reg.fit(X_poly, y)\n",
    "lin_reg.intercept_, lin_reg.coef_"
   ]
  },
  {
   "cell_type": "code",
   "execution_count": 30,
   "id": "f3128310",
   "metadata": {},
   "outputs": [],
   "source": [
    "y_pred = lin_reg.predict(X_poly)"
   ]
  },
  {
   "cell_type": "code",
   "execution_count": 31,
   "id": "104b5b73",
   "metadata": {
    "scrolled": true
   },
   "outputs": [
    {
     "data": {
      "text/plain": [
       "array([[ 1.90729026],\n",
       "       [11.54498441],\n",
       "       [ 2.09104923],\n",
       "       [ 1.98370389],\n",
       "       [ 5.57420563],\n",
       "       [13.04495841],\n",
       "       [ 5.53693842],\n",
       "       [ 9.42211617],\n",
       "       [ 9.69623341],\n",
       "       [ 6.28955054],\n",
       "       [ 3.16550674],\n",
       "       [ 4.50195028],\n",
       "       [ 1.8791531 ],\n",
       "       [ 4.78769527],\n",
       "       [13.00557815],\n",
       "       [11.47766318],\n",
       "       [10.86696045],\n",
       "       [ 4.248462  ],\n",
       "       [ 1.87476831],\n",
       "       [ 5.68836146],\n",
       "       [ 5.05336433],\n",
       "       [ 8.50493846],\n",
       "       [ 2.38960302],\n",
       "       [ 5.81420404],\n",
       "       [ 2.05703055],\n",
       "       [ 4.23793492],\n",
       "       [ 6.45608877],\n",
       "       [ 6.30530841],\n",
       "       [ 6.50342383],\n",
       "       [ 6.00181049],\n",
       "       [ 2.84303868],\n",
       "       [ 6.75390076],\n",
       "       [ 3.92158766],\n",
       "       [ 2.42541617],\n",
       "       [ 2.93387612],\n",
       "       [ 2.68038944],\n",
       "       [ 7.51154927],\n",
       "       [ 5.87399722],\n",
       "       [ 2.3056578 ],\n",
       "       [ 5.22260628],\n",
       "       [ 2.04702251],\n",
       "       [ 1.86026273],\n",
       "       [12.93824268],\n",
       "       [10.07677742],\n",
       "       [ 4.43222522],\n",
       "       [ 1.95369849],\n",
       "       [ 6.97803799],\n",
       "       [ 2.38204737],\n",
       "       [ 2.09481246],\n",
       "       [ 3.4377701 ],\n",
       "       [ 2.64953755],\n",
       "       [ 2.02594174],\n",
       "       [ 6.09028416],\n",
       "       [ 2.71543225],\n",
       "       [ 5.25157082],\n",
       "       [ 3.47622344],\n",
       "       [ 4.76790182],\n",
       "       [ 6.07327385],\n",
       "       [ 4.28487011],\n",
       "       [ 3.83220048],\n",
       "       [ 2.79898972],\n",
       "       [ 1.90041196],\n",
       "       [ 3.81932089],\n",
       "       [ 4.19231636],\n",
       "       [ 5.92073839],\n",
       "       [ 9.34411846],\n",
       "       [ 5.84003261],\n",
       "       [ 4.69582219],\n",
       "       [ 4.0037327 ],\n",
       "       [ 9.17707131],\n",
       "       [ 5.13228898],\n",
       "       [ 3.56066483],\n",
       "       [ 9.88479372],\n",
       "       [10.98417422],\n",
       "       [ 6.20784231],\n",
       "       [ 1.81893617],\n",
       "       [ 6.5124949 ],\n",
       "       [ 6.10598366],\n",
       "       [ 2.88780572],\n",
       "       [ 2.49234857],\n",
       "       [10.31578884],\n",
       "       [11.99924635],\n",
       "       [ 7.41453099],\n",
       "       [ 5.23945197],\n",
       "       [ 2.01954487],\n",
       "       [ 3.42116491],\n",
       "       [ 6.12008858],\n",
       "       [ 5.64581267],\n",
       "       [ 3.43864283],\n",
       "       [ 3.77162913],\n",
       "       [ 2.97377095],\n",
       "       [ 2.88492716],\n",
       "       [ 1.97812728],\n",
       "       [ 4.99035143],\n",
       "       [ 9.85601961],\n",
       "       [ 1.87430016],\n",
       "       [11.93846606],\n",
       "       [11.37170278],\n",
       "       [ 4.60519086],\n",
       "       [ 8.40353792]])"
      ]
     },
     "execution_count": 31,
     "metadata": {},
     "output_type": "execute_result"
    }
   ],
   "source": [
    "y_pred"
   ]
  },
  {
   "cell_type": "code",
   "execution_count": 34,
   "id": "5b141b38",
   "metadata": {},
   "outputs": [
    {
     "data": {
      "image/png": "[encoded data removed]",
      "text/plain": [
       "<Figure size 432x288 with 1 Axes>"
      ]
     },
     "metadata": {
      "needs_background": "light"
     },
     "output_type": "display_data"
    }
   ],
   "source": [
    "plt.plot(X, y, 'b*')\n",
    "plt.plot(X, y_pred.ravel(), 'r.')\n",
    "plt.show()"
   ]
  },
  {
   "cell_type": "code",
   "execution_count": 35,
   "id": "ee403a98",
   "metadata": {},
   "outputs": [],
   "source": [
    "from sklearn.metrics import mean_squared_error\n",
    "from sklearn.model_selection import train_test_split"
   ]
  },
  {
   "cell_type": "code",
   "execution_count": 44,
   "id": "4b29b195",
   "metadata": {},
   "outputs": [],
   "source": [
    "def plot_learning_curve(model, X, y, test_size=0.2):\n",
    "    X_train, X_val, y_train, y_val = train_test_split(X, y, test_size=test_size)\n",
    "    \n",
    "    train_err = []\n",
    "    val_err = []\n",
    "    for m in range(1, len(X_train)):\n",
    "        model.fit(X_train[:m], y_train[:m])\n",
    "        y_train_pred = model.predict(X_train[:m])\n",
    "        y_val_pred = model.predict(X_val)\n",
    "        train_err.append(mean_squared_error(y_train[:m], y_train_pred[:m]))\n",
    "        val_err.append(mean_squared_error(y_val, y_val_pred))\n",
    "    \n",
    "    plt.plot(np.sqrt(train_err), 'r-+', label='train')\n",
    "    plt.plot(np.sqrt(val_err), 'b-', label='val')\n",
    "    plt.legend()\n",
    "    plt.show()"
   ]
  },
  {
   "cell_type": "code",
   "execution_count": 45,
   "id": "db11a80e",
   "metadata": {},
   "outputs": [
    {
     "data": {
      "image/png": "[encoded data removed]",
      "text/plain": [
       "<Figure size 432x288 with 1 Axes>"
      ]
     },
     "metadata": {
      "needs_background": "light"
     },
     "output_type": "display_data"
    }
   ],
   "source": [
    "lin_reg = LinearRegression()\n",
    "plot_learning_curve(lin_reg, X, y)"
   ]
  },
  {
   "cell_type": "code",
   "execution_count": 46,
   "id": "f6a4e859",
   "metadata": {},
   "outputs": [],
   "source": [
    "from sklearn.pipeline import Pipeline"
   ]
  },
  {
   "cell_type": "code",
   "execution_count": 47,
   "id": "8d180316",
   "metadata": {},
   "outputs": [],
   "source": [
    "poly_reg = Pipeline([\n",
    "    ('poly_features', PolynomialFeatures(degree=10, include_bias=False)),\n",
    "    ('lin_reg', LinearRegression()),\n",
    "])"
   ]
  },
  {
   "cell_type": "code",
   "execution_count": 49,
   "id": "d85a0c1a",
   "metadata": {},
   "outputs": [
    {
     "data": {
      "image/png": "[encoded data removed]",
      "text/plain": [
       "<Figure size 432x288 with 1 Axes>"
      ]
     },
     "metadata": {
      "needs_background": "light"
     },
     "output_type": "display_data"
    }
   ],
   "source": [
    "plot_learning_curve(poly_reg, X, y)"
   ]
  },
  {
   "cell_type": "code",
   "execution_count": null,
   "id": "c9135abc",
   "metadata": {},
   "outputs": [],
   "source": []
  }
 ],
 "metadata": {
  "kernelspec": {
   "display_name": "Python 3",
   "language": "python",
   "name": "python3"
  },
  "language_info": {
   "codemirror_mode": {
    "name": "ipython",
    "version": 3
   },
   "file_extension": ".py",
   "mimetype": "text/x-python",
   "name": "python",
   "nbconvert_exporter": "python",
   "pygments_lexer": "ipython3",
   "version": "3.8.8"
  }
 },
 "nbformat": 4,
 "nbformat_minor": 5
}
